{
  "nbformat": 4,
  "nbformat_minor": 0,
  "metadata": {
    "colab": {
      "name": "part2.ipynb",
      "provenance": []
    },
    "kernelspec": {
      "name": "python3",
      "display_name": "Python 3"
    },
    "accelerator": "GPU",
    "widgets": {
      "application/vnd.jupyter.widget-state+json": {
        "0d86f09a841d4c07b4bae85652e4e416": {
          "model_module": "@jupyter-widgets/controls",
          "model_name": "HBoxModel",
          "state": {
            "_view_name": "HBoxView",
            "_dom_classes": [],
            "_model_name": "HBoxModel",
            "_view_module": "@jupyter-widgets/controls",
            "_model_module_version": "1.5.0",
            "_view_count": null,
            "_view_module_version": "1.5.0",
            "box_style": "",
            "layout": "IPY_MODEL_eebac7e1c89e4611af3733e9bc5d88ca",
            "_model_module": "@jupyter-widgets/controls",
            "children": [
              "IPY_MODEL_b86e934302024410b4fff265ab98c71c",
              "IPY_MODEL_455531763d874c40b523b1c06a0598ac"
            ]
          }
        },
        "eebac7e1c89e4611af3733e9bc5d88ca": {
          "model_module": "@jupyter-widgets/base",
          "model_name": "LayoutModel",
          "state": {
            "_view_name": "LayoutView",
            "grid_template_rows": null,
            "right": null,
            "justify_content": null,
            "_view_module": "@jupyter-widgets/base",
            "overflow": null,
            "_model_module_version": "1.2.0",
            "_view_count": null,
            "flex_flow": null,
            "width": null,
            "min_width": null,
            "border": null,
            "align_items": null,
            "bottom": null,
            "_model_module": "@jupyter-widgets/base",
            "top": null,
            "grid_column": null,
            "overflow_y": null,
            "overflow_x": null,
            "grid_auto_flow": null,
            "grid_area": null,
            "grid_template_columns": null,
            "flex": null,
            "_model_name": "LayoutModel",
            "justify_items": null,
            "grid_row": null,
            "max_height": null,
            "align_content": null,
            "visibility": null,
            "align_self": null,
            "height": null,
            "min_height": null,
            "padding": null,
            "grid_auto_rows": null,
            "grid_gap": null,
            "max_width": null,
            "order": null,
            "_view_module_version": "1.2.0",
            "grid_template_areas": null,
            "object_position": null,
            "object_fit": null,
            "grid_auto_columns": null,
            "margin": null,
            "display": null,
            "left": null
          }
        },
        "b86e934302024410b4fff265ab98c71c": {
          "model_module": "@jupyter-widgets/controls",
          "model_name": "FloatProgressModel",
          "state": {
            "_view_name": "ProgressView",
            "style": "IPY_MODEL_5e5c535b91bb4a1987d1a56eafe37e83",
            "_dom_classes": [],
            "description": "Loss: 1.9594 Accuracy: 30.0: 100%",
            "_model_name": "FloatProgressModel",
            "bar_style": "success",
            "max": 80,
            "_view_module": "@jupyter-widgets/controls",
            "_model_module_version": "1.5.0",
            "value": 80,
            "_view_count": null,
            "_view_module_version": "1.5.0",
            "orientation": "horizontal",
            "min": 0,
            "description_tooltip": null,
            "_model_module": "@jupyter-widgets/controls",
            "layout": "IPY_MODEL_c25c1ca76b9c49a19bdd4a57228edee3"
          }
        },
        "455531763d874c40b523b1c06a0598ac": {
          "model_module": "@jupyter-widgets/controls",
          "model_name": "HTMLModel",
          "state": {
            "_view_name": "HTMLView",
            "style": "IPY_MODEL_31fbaf340fc547ad8dc471172d938cd5",
            "_dom_classes": [],
            "description": "",
            "_model_name": "HTMLModel",
            "placeholder": "​",
            "_view_module": "@jupyter-widgets/controls",
            "_model_module_version": "1.5.0",
            "value": " 80/80 [00:01&lt;00:00, 67.51it/s]",
            "_view_count": null,
            "_view_module_version": "1.5.0",
            "description_tooltip": null,
            "_model_module": "@jupyter-widgets/controls",
            "layout": "IPY_MODEL_6f1859d16374463e8b73da0616ab2f59"
          }
        },
        "5e5c535b91bb4a1987d1a56eafe37e83": {
          "model_module": "@jupyter-widgets/controls",
          "model_name": "ProgressStyleModel",
          "state": {
            "_view_name": "StyleView",
            "_model_name": "ProgressStyleModel",
            "description_width": "initial",
            "_view_module": "@jupyter-widgets/base",
            "_model_module_version": "1.5.0",
            "_view_count": null,
            "_view_module_version": "1.2.0",
            "bar_color": null,
            "_model_module": "@jupyter-widgets/controls"
          }
        },
        "c25c1ca76b9c49a19bdd4a57228edee3": {
          "model_module": "@jupyter-widgets/base",
          "model_name": "LayoutModel",
          "state": {
            "_view_name": "LayoutView",
            "grid_template_rows": null,
            "right": null,
            "justify_content": null,
            "_view_module": "@jupyter-widgets/base",
            "overflow": null,
            "_model_module_version": "1.2.0",
            "_view_count": null,
            "flex_flow": null,
            "width": null,
            "min_width": null,
            "border": null,
            "align_items": null,
            "bottom": null,
            "_model_module": "@jupyter-widgets/base",
            "top": null,
            "grid_column": null,
            "overflow_y": null,
            "overflow_x": null,
            "grid_auto_flow": null,
            "grid_area": null,
            "grid_template_columns": null,
            "flex": null,
            "_model_name": "LayoutModel",
            "justify_items": null,
            "grid_row": null,
            "max_height": null,
            "align_content": null,
            "visibility": null,
            "align_self": null,
            "height": null,
            "min_height": null,
            "padding": null,
            "grid_auto_rows": null,
            "grid_gap": null,
            "max_width": null,
            "order": null,
            "_view_module_version": "1.2.0",
            "grid_template_areas": null,
            "object_position": null,
            "object_fit": null,
            "grid_auto_columns": null,
            "margin": null,
            "display": null,
            "left": null
          }
        },
        "31fbaf340fc547ad8dc471172d938cd5": {
          "model_module": "@jupyter-widgets/controls",
          "model_name": "DescriptionStyleModel",
          "state": {
            "_view_name": "StyleView",
            "_model_name": "DescriptionStyleModel",
            "description_width": "",
            "_view_module": "@jupyter-widgets/base",
            "_model_module_version": "1.5.0",
            "_view_count": null,
            "_view_module_version": "1.2.0",
            "_model_module": "@jupyter-widgets/controls"
          }
        },
        "6f1859d16374463e8b73da0616ab2f59": {
          "model_module": "@jupyter-widgets/base",
          "model_name": "LayoutModel",
          "state": {
            "_view_name": "LayoutView",
            "grid_template_rows": null,
            "right": null,
            "justify_content": null,
            "_view_module": "@jupyter-widgets/base",
            "overflow": null,
            "_model_module_version": "1.2.0",
            "_view_count": null,
            "flex_flow": null,
            "width": null,
            "min_width": null,
            "border": null,
            "align_items": null,
            "bottom": null,
            "_model_module": "@jupyter-widgets/base",
            "top": null,
            "grid_column": null,
            "overflow_y": null,
            "overflow_x": null,
            "grid_auto_flow": null,
            "grid_area": null,
            "grid_template_columns": null,
            "flex": null,
            "_model_name": "LayoutModel",
            "justify_items": null,
            "grid_row": null,
            "max_height": null,
            "align_content": null,
            "visibility": null,
            "align_self": null,
            "height": null,
            "min_height": null,
            "padding": null,
            "grid_auto_rows": null,
            "grid_gap": null,
            "max_width": null,
            "order": null,
            "_view_module_version": "1.2.0",
            "grid_template_areas": null,
            "object_position": null,
            "object_fit": null,
            "grid_auto_columns": null,
            "margin": null,
            "display": null,
            "left": null
          }
        }
      }
    }
  },
  "cells": [
    {
      "cell_type": "markdown",
      "metadata": {
        "id": "HFEm4jxZwSyw"
      },
      "source": [
        "# МИИАД проект. Часть 2\n",
        "В этом блокноте будем работать с эмбедингами музыкальных произведений из [датасета](https://github.com/mdeff/fma), которые были получены с помощью [VGGish](https://github.com/tensorflow/models/tree/master/research/audioset/vggish).  "
      ]
    },
    {
      "cell_type": "code",
      "metadata": {
        "id": "CmXURWzBukIo"
      },
      "source": [
        "! unzip embeddings.zip"
      ],
      "execution_count": null,
      "outputs": []
    },
    {
      "cell_type": "code",
      "metadata": {
        "id": "AgcatueXxb3C"
      },
      "source": [
        "import torch\n",
        "import pandas as pd\n",
        "import numpy as np \n",
        "import os, sys\n",
        "\n",
        "import matplotlib.pyplot as plt\n",
        "import torch.nn as nn\n",
        "import torch.nn.functional as F\n",
        "import torch.optim as optim\n",
        "\n",
        "from tqdm.notebook import tqdm\n",
        "\n",
        "%matplotlib inline"
      ],
      "execution_count": 11,
      "outputs": []
    },
    {
      "cell_type": "code",
      "metadata": {
        "colab": {
          "base_uri": "https://localhost:8080/"
        },
        "id": "Eh6VTEfjBj5l",
        "outputId": "3afe60eb-11d3-4f18-f372-cdf7859c6098"
      },
      "source": [
        "data_train.songs.loc[2].drop('genre_top').to_numpy(dtype=np.float32).shape"
      ],
      "execution_count": 86,
      "outputs": [
        {
          "output_type": "execute_result",
          "data": {
            "text/plain": [
              "(186,)"
            ]
          },
          "metadata": {
            "tags": []
          },
          "execution_count": 86
        }
      ]
    },
    {
      "cell_type": "code",
      "metadata": {
        "id": "OXO4qkZvwGMy"
      },
      "source": [
        "class MusicDataset(torch.utils.data.Dataset):\n",
        "    \"\"\"Music dataset.\"\"\"\n",
        " \n",
        "    def __init__(self, csv_file, root_dir, select):\n",
        "\n",
        "        self.songs = pd.read_csv(csv_file).set_index('track_id')\n",
        "        self.classes = {}\n",
        "        for ind, genre in enumerate(self.songs['genre_top'].unique()):\n",
        "            self.classes[genre] = ind\n",
        "        self.root_dir = root_dir\n",
        "        with open(select, 'rb') as f:\n",
        "            self.select = np.load(f)\n",
        " \n",
        "    def __len__(self):\n",
        "        return len(self.select)\n",
        " \n",
        "    def __getitem__(self, idx):\n",
        "        if torch.is_tensor(idx):\n",
        "            idx = idx.tolist()\n",
        "        ind = self.select[idx]\n",
        "        song_name = os.path.join(self.root_dir,\n",
        "                                 str(ind) + '.npy')\n",
        "        with open(song_name, 'rb') as f:\n",
        "            song = np.load(f)\n",
        "        target = self.songs.loc[ind]['genre_top']\n",
        "        # data = self.songs.loc[ind].drop('genre_top').to_numpy(dtype=np.float32)\n",
        "        sample = {'song': song.flatten(), 'target': self.classes[target]}\n",
        " \n",
        "        return sample"
      ],
      "execution_count": 176,
      "outputs": []
    },
    {
      "cell_type": "code",
      "metadata": {
        "colab": {
          "base_uri": "https://localhost:8080/"
        },
        "id": "LuI2D7SZz8mi",
        "outputId": "b04c52b6-a26d-4f45-be45-6c15e3126746"
      },
      "source": [
        "data_train = MusicDataset('data.csv', 'embeddings', 'train.npy')\n",
        "data_test = MusicDataset('data.csv', 'embeddings', 'test.npy')\n",
        "data_val = MusicDataset('data.csv', 'embeddings', 'val.npy')\n",
        "torch.manual_seed(42)"
      ],
      "execution_count": 177,
      "outputs": [
        {
          "output_type": "execute_result",
          "data": {
            "text/plain": [
              "<torch._C.Generator at 0x7f0654b87c18>"
            ]
          },
          "metadata": {
            "tags": []
          },
          "execution_count": 177
        }
      ]
    },
    {
      "cell_type": "code",
      "metadata": {
        "colab": {
          "base_uri": "https://localhost:8080/"
        },
        "id": "Z2JkDo0wDjLy",
        "outputId": "cd483e7e-3a74-418d-f1b7-608003e0a638"
      },
      "source": [
        "data_train[0]['song'].shape"
      ],
      "execution_count": 178,
      "outputs": [
        {
          "output_type": "execute_result",
          "data": {
            "text/plain": [
              "(3968,)"
            ]
          },
          "metadata": {
            "tags": []
          },
          "execution_count": 178
        }
      ]
    },
    {
      "cell_type": "code",
      "metadata": {
        "id": "orjLwRta2eEn"
      },
      "source": [
        "train_dataloader = torch.utils.data.DataLoader(data_train, batch_size=10, shuffle=True)\n",
        "val_dataloader = torch.utils.data.DataLoader(data_val, batch_size=10, shuffle=True)\n",
        "test_dataloader = torch.utils.data.DataLoader(data_test, batch_size=10, shuffle=True)"
      ],
      "execution_count": 179,
      "outputs": []
    },
    {
      "cell_type": "code",
      "metadata": {
        "id": "X5i1tTHDb0QV"
      },
      "source": [
        "class FullNN(nn.Module):\n",
        "    def __init__(self):\n",
        "        super(FullNN, self).__init__()\n",
        "        self.fc1 = nn.Linear(31*128, 128)\n",
        "        self.fc2 = nn.Linear(128, 60)\n",
        "        self.fc3 = nn.Linear(60, 8)\n",
        "\n",
        "    def forward(self, x):\n",
        "        x = self.fc1(x)\n",
        "        x = F.relu(x)\n",
        "        x = self.fc2(x)\n",
        "        x = F.relu(x)\n",
        "        x = self.fc3(x)\n",
        "        output = F.log_softmax(x, dim=1)\n",
        "        return output\n",
        "\n",
        "model = FullNN()"
      ],
      "execution_count": 180,
      "outputs": []
    },
    {
      "cell_type": "code",
      "metadata": {
        "colab": {
          "base_uri": "https://localhost:8080/"
        },
        "id": "ZEHOewqWi2Jd",
        "outputId": "eeadc841-b469-454b-88bd-5387ef684e53"
      },
      "source": [
        "for batch in train_dataloader:\n",
        "    with torch.no_grad():\n",
        "        model1 = model.to('cuda:0').eval()\n",
        "        labels = batch['target'].to('cuda:0')\n",
        "        song = batch['song'].to('cuda:0')\n",
        "        predicted = model1(song)\n",
        "        print((predicted.argmax(1) == labels).float().mean())\n",
        "        break"
      ],
      "execution_count": 71,
      "outputs": [
        {
          "output_type": "stream",
          "text": [
            "tensor(0.2400, device='cuda:0')\n"
          ],
          "name": "stdout"
        }
      ]
    },
    {
      "cell_type": "code",
      "metadata": {
        "id": "s-uURL57Bfmb"
      },
      "source": [
        "def train_epoch(\n",
        "    model,\n",
        "    data_loader,\n",
        "    optimizer,\n",
        "    criterion,\n",
        "    return_losses=False,\n",
        "    device='cuda:0',\n",
        "):\n",
        "    model = model.to(device).train()\n",
        "    total_loss = 0\n",
        "    num_batches = 0\n",
        "    all_losses = []\n",
        "    total_predictions = np.array([])\n",
        "    total_labels = np.array([])\n",
        "    with tqdm(total=len(data_loader), file=sys.stdout) as prbar:\n",
        "        for batch in data_loader:\n",
        "            # Move Batch to GPU\n",
        "            songs = batch['song'].to(device)\n",
        "            labels = batch['target'].to(device)\n",
        "            predicted = model(songs)\n",
        "            loss = criterion(predicted, labels)\n",
        "            # Update weights\n",
        "            loss.backward()\n",
        "            optimizer.step()\n",
        "            optimizer.zero_grad()\n",
        "            # Update descirption for tqdm\n",
        "            accuracy = (predicted.argmax(1) == labels).float().mean()\n",
        "            prbar.set_description(\n",
        "                f\"Loss: {round(loss.item(), 4)} \"\n",
        "                f\"Accuracy: {round(accuracy.item() * 100, 4)}\"\n",
        "            )\n",
        "            prbar.update(1)\n",
        "            total_loss += loss.item()\n",
        "            total_predictions = np.append(total_predictions, predicted.argmax(1).cpu().detach().numpy())\n",
        "            total_labels = np.append(total_labels, labels.cpu().detach().numpy())\n",
        "            num_batches += 1\n",
        "            all_losses.append(loss.detach().item())\n",
        "    metrics = {'loss': total_loss / num_batches}\n",
        "    metrics.update({\"accuracy\": (total_predictions == total_labels).mean()})\n",
        "    if return_losses:\n",
        "        return metrics, all_losses\n",
        "    else:\n",
        "        return metrics\n",
        "\n",
        "\n",
        "def validate(model, data_loader, criterion, device='cuda:0'):\n",
        "    model = model.eval()\n",
        "    total_loss = 0\n",
        "    num_batches = 0\n",
        "    total_predictions = np.array([])\n",
        "    total_labels = np.array([])\n",
        "    with tqdm(total=len(data_loader), file=sys.stdout) as prbar:\n",
        "        for batch in data_loader:\n",
        "            songs = batch['song'].to(device)\n",
        "            labels = batch['target'].to(device)\n",
        "            predicted = model(songs)\n",
        "            loss = criterion(predicted, labels)\n",
        "            accuracy = (predicted.argmax(1) == labels).float().mean()\n",
        "            prbar.set_description(\n",
        "                f\"Loss: {round(loss.item(), 4)} \"\n",
        "                f\"Accuracy: {round(accuracy.item() * 100, 4)}\"\n",
        "            )\n",
        "            prbar.update(1)\n",
        "            total_loss += loss.item()\n",
        "            total_predictions = np.append(total_predictions, predicted.argmax(1).cpu().detach().numpy())\n",
        "            total_labels = np.append(total_labels, labels.cpu().detach().numpy())\n",
        "            num_batches += 1\n",
        "    metrics = {'loss': total_loss / num_batches}\n",
        "    metrics.update({\"accuracy\": (total_predictions == total_labels).mean()})\n",
        "    return metrics\n",
        "\n",
        "def fit(\n",
        "    model,\n",
        "    epochs,\n",
        "    train_data_loader,\n",
        "    validation_data_loader,\n",
        "    optimizer,\n",
        "    criterion\n",
        "):\n",
        "    all_train_losses = []\n",
        "    epoch_train_losses = []\n",
        "    epoch_eval_losses = []\n",
        "    epoch_train_acc = []\n",
        "    epoch_eval_acc = []\n",
        "    for epoch in range(epochs):\n",
        "        # Train step\n",
        "        print(f\"Train Epoch: {epoch}\")\n",
        "        train_metrics, one_epoch_train_losses = train_epoch(\n",
        "            model=model,\n",
        "            data_loader=train_data_loader,\n",
        "            optimizer=optimizer,\n",
        "            return_losses=True,\n",
        "            criterion=criterion\n",
        "        )\n",
        "        # Save Train losses\n",
        "        all_train_losses.extend(one_epoch_train_losses)\n",
        "        epoch_train_losses.append(train_metrics['loss'])\n",
        "        epoch_train_acc.append(train_metrics['accuracy'])\n",
        "        # Eval step\n",
        "        print(f\"Validation Epoch: {epoch}\")\n",
        "        with torch.no_grad():\n",
        "            validation_metrics = validate(\n",
        "                model=model,\n",
        "                data_loader=validation_data_loader,\n",
        "                criterion=criterion\n",
        "            )\n",
        "        # Save eval losses\n",
        "        epoch_eval_losses.append(validation_metrics['loss'])\n",
        "        epoch_eval_acc.append(validation_metrics['accuracy'])\n",
        "\n",
        "        plt.figure()\n",
        "        plt.subplot(121)\n",
        "        plt.plot(epoch_eval_acc, 'r--')\n",
        "        plt.plot(epoch_train_acc, 'b--')\n",
        "\n",
        "        plt.subplot(122)\n",
        "        plt.plot(range(epoch+1), epoch_eval_losses, 'r--', range(epoch+1), epoch_train_losses, 'b--')\n",
        "        plt.show()"
      ],
      "execution_count": 181,
      "outputs": []
    },
    {
      "cell_type": "code",
      "metadata": {
        "id": "0vomU-6HowSh"
      },
      "source": [
        "criterion = nn.NLLLoss()\n",
        "optimizer = torch.optim.SGD(model.parameters(), lr=0.005) "
      ],
      "execution_count": 182,
      "outputs": []
    },
    {
      "cell_type": "code",
      "metadata": {
        "id": "AqtpPyHhtztl"
      },
      "source": [
        "fit(model, 1000, train_dataloader, val_dataloader, optimizer, criterion)"
      ],
      "execution_count": null,
      "outputs": []
    },
    {
      "cell_type": "code",
      "metadata": {
        "colab": {
          "base_uri": "https://localhost:8080/",
          "height": 66,
          "referenced_widgets": [
            "0d86f09a841d4c07b4bae85652e4e416",
            "eebac7e1c89e4611af3733e9bc5d88ca",
            "b86e934302024410b4fff265ab98c71c",
            "455531763d874c40b523b1c06a0598ac",
            "5e5c535b91bb4a1987d1a56eafe37e83",
            "c25c1ca76b9c49a19bdd4a57228edee3",
            "31fbaf340fc547ad8dc471172d938cd5",
            "6f1859d16374463e8b73da0616ab2f59"
          ]
        },
        "id": "dCicPDUbuZyH",
        "outputId": "b8259b0f-3be5-42b6-8480-e119e091c664"
      },
      "source": [
        "with torch.no_grad():\n",
        "            validation_metrics = validate(\n",
        "                model=model,\n",
        "                data_loader=test_dataloader,\n",
        "                criterion=criterion\n",
        "            )\n"
      ],
      "execution_count": 185,
      "outputs": [
        {
          "output_type": "display_data",
          "data": {
            "application/vnd.jupyter.widget-view+json": {
              "model_id": "0d86f09a841d4c07b4bae85652e4e416",
              "version_minor": 0,
              "version_major": 2
            },
            "text/plain": [
              "HBox(children=(FloatProgress(value=0.0, max=80.0), HTML(value='')))"
            ]
          },
          "metadata": {
            "tags": []
          }
        },
        {
          "output_type": "stream",
          "text": [
            "\n"
          ],
          "name": "stdout"
        }
      ]
    },
    {
      "cell_type": "code",
      "metadata": {
        "colab": {
          "base_uri": "https://localhost:8080/"
        },
        "id": "FbqhpoHaF7ju",
        "outputId": "2f3de99a-8a64-439e-b665-3dcaaa52ea34"
      },
      "source": [
        "validation_metrics"
      ],
      "execution_count": 186,
      "outputs": [
        {
          "output_type": "execute_result",
          "data": {
            "text/plain": [
              "{'accuracy': 0.21875, 'loss': 2.0265617325901983}"
            ]
          },
          "metadata": {
            "tags": []
          },
          "execution_count": 186
        }
      ]
    },
    {
      "cell_type": "code",
      "metadata": {
        "id": "NTP7LdCnGWkN"
      },
      "source": [
        ""
      ],
      "execution_count": null,
      "outputs": []
    }
  ]
}