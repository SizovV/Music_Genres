{
  "nbformat": 4,
  "nbformat_minor": 0,
  "metadata": {
    "colab": {
      "name": "part2_RNN.ipynb",
      "provenance": [],
      "collapsed_sections": [],
      "toc_visible": true,
      "mount_file_id": "1fJO-IOTb-Mqtxqy4BGlWNhJ20h7pfJOg",
      "authorship_tag": "ABX9TyPP8xNSGlC8Webrj251otIo",
      "include_colab_link": true
    },
    "kernelspec": {
      "name": "python3",
      "display_name": "Python 3"
    },
    "accelerator": "GPU",
    "widgets": {
      "application/vnd.jupyter.widget-state+json": {
        "28211664f010430281f9f9bdbcdabe52": {
          "model_module": "@jupyter-widgets/controls",
          "model_name": "HBoxModel",
          "state": {
            "_view_name": "HBoxView",
            "_dom_classes": [],
            "_model_name": "HBoxModel",
            "_view_module": "@jupyter-widgets/controls",
            "_model_module_version": "1.5.0",
            "_view_count": null,
            "_view_module_version": "1.5.0",
            "box_style": "",
            "layout": "IPY_MODEL_61b4507398bc4e6e983216465e937257",
            "_model_module": "@jupyter-widgets/controls",
            "children": [
              "IPY_MODEL_e906c0bad300426e94ecf048212fad32",
              "IPY_MODEL_b826f2076d3f41a1aee80ccd9cbcfbdc"
            ]
          }
        },
        "61b4507398bc4e6e983216465e937257": {
          "model_module": "@jupyter-widgets/base",
          "model_name": "LayoutModel",
          "state": {
            "_view_name": "LayoutView",
            "grid_template_rows": null,
            "right": null,
            "justify_content": null,
            "_view_module": "@jupyter-widgets/base",
            "overflow": null,
            "_model_module_version": "1.2.0",
            "_view_count": null,
            "flex_flow": null,
            "width": null,
            "min_width": null,
            "border": null,
            "align_items": null,
            "bottom": null,
            "_model_module": "@jupyter-widgets/base",
            "top": null,
            "grid_column": null,
            "overflow_y": null,
            "overflow_x": null,
            "grid_auto_flow": null,
            "grid_area": null,
            "grid_template_columns": null,
            "flex": null,
            "_model_name": "LayoutModel",
            "justify_items": null,
            "grid_row": null,
            "max_height": null,
            "align_content": null,
            "visibility": null,
            "align_self": null,
            "height": null,
            "min_height": null,
            "padding": null,
            "grid_auto_rows": null,
            "grid_gap": null,
            "max_width": null,
            "order": null,
            "_view_module_version": "1.2.0",
            "grid_template_areas": null,
            "object_position": null,
            "object_fit": null,
            "grid_auto_columns": null,
            "margin": null,
            "display": null,
            "left": null
          }
        },
        "e906c0bad300426e94ecf048212fad32": {
          "model_module": "@jupyter-widgets/controls",
          "model_name": "FloatProgressModel",
          "state": {
            "_view_name": "ProgressView",
            "style": "IPY_MODEL_cf6fe9edc86d4404b036ead8f2417c03",
            "_dom_classes": [],
            "description": "100%",
            "_model_name": "FloatProgressModel",
            "bar_style": "success",
            "max": 7996,
            "_view_module": "@jupyter-widgets/controls",
            "_model_module_version": "1.5.0",
            "value": 7996,
            "_view_count": null,
            "_view_module_version": "1.5.0",
            "orientation": "horizontal",
            "min": 0,
            "description_tooltip": null,
            "_model_module": "@jupyter-widgets/controls",
            "layout": "IPY_MODEL_47487d1c2b814c1eb30dec2765f57400"
          }
        },
        "b826f2076d3f41a1aee80ccd9cbcfbdc": {
          "model_module": "@jupyter-widgets/controls",
          "model_name": "HTMLModel",
          "state": {
            "_view_name": "HTMLView",
            "style": "IPY_MODEL_7da1b7d23fa54cbb8e9575850cf262b2",
            "_dom_classes": [],
            "description": "",
            "_model_name": "HTMLModel",
            "placeholder": "​",
            "_view_module": "@jupyter-widgets/controls",
            "_model_module_version": "1.5.0",
            "value": " 7996/7996 [1:06:38&lt;00:00,  2.00it/s]",
            "_view_count": null,
            "_view_module_version": "1.5.0",
            "description_tooltip": null,
            "_model_module": "@jupyter-widgets/controls",
            "layout": "IPY_MODEL_484f94ee30ad4efe9752bfd5ee52c0ef"
          }
        },
        "cf6fe9edc86d4404b036ead8f2417c03": {
          "model_module": "@jupyter-widgets/controls",
          "model_name": "ProgressStyleModel",
          "state": {
            "_view_name": "StyleView",
            "_model_name": "ProgressStyleModel",
            "description_width": "initial",
            "_view_module": "@jupyter-widgets/base",
            "_model_module_version": "1.5.0",
            "_view_count": null,
            "_view_module_version": "1.2.0",
            "bar_color": null,
            "_model_module": "@jupyter-widgets/controls"
          }
        },
        "47487d1c2b814c1eb30dec2765f57400": {
          "model_module": "@jupyter-widgets/base",
          "model_name": "LayoutModel",
          "state": {
            "_view_name": "LayoutView",
            "grid_template_rows": null,
            "right": null,
            "justify_content": null,
            "_view_module": "@jupyter-widgets/base",
            "overflow": null,
            "_model_module_version": "1.2.0",
            "_view_count": null,
            "flex_flow": null,
            "width": null,
            "min_width": null,
            "border": null,
            "align_items": null,
            "bottom": null,
            "_model_module": "@jupyter-widgets/base",
            "top": null,
            "grid_column": null,
            "overflow_y": null,
            "overflow_x": null,
            "grid_auto_flow": null,
            "grid_area": null,
            "grid_template_columns": null,
            "flex": null,
            "_model_name": "LayoutModel",
            "justify_items": null,
            "grid_row": null,
            "max_height": null,
            "align_content": null,
            "visibility": null,
            "align_self": null,
            "height": null,
            "min_height": null,
            "padding": null,
            "grid_auto_rows": null,
            "grid_gap": null,
            "max_width": null,
            "order": null,
            "_view_module_version": "1.2.0",
            "grid_template_areas": null,
            "object_position": null,
            "object_fit": null,
            "grid_auto_columns": null,
            "margin": null,
            "display": null,
            "left": null
          }
        },
        "7da1b7d23fa54cbb8e9575850cf262b2": {
          "model_module": "@jupyter-widgets/controls",
          "model_name": "DescriptionStyleModel",
          "state": {
            "_view_name": "StyleView",
            "_model_name": "DescriptionStyleModel",
            "description_width": "",
            "_view_module": "@jupyter-widgets/base",
            "_model_module_version": "1.5.0",
            "_view_count": null,
            "_view_module_version": "1.2.0",
            "_model_module": "@jupyter-widgets/controls"
          }
        },
        "484f94ee30ad4efe9752bfd5ee52c0ef": {
          "model_module": "@jupyter-widgets/base",
          "model_name": "LayoutModel",
          "state": {
            "_view_name": "LayoutView",
            "grid_template_rows": null,
            "right": null,
            "justify_content": null,
            "_view_module": "@jupyter-widgets/base",
            "overflow": null,
            "_model_module_version": "1.2.0",
            "_view_count": null,
            "flex_flow": null,
            "width": null,
            "min_width": null,
            "border": null,
            "align_items": null,
            "bottom": null,
            "_model_module": "@jupyter-widgets/base",
            "top": null,
            "grid_column": null,
            "overflow_y": null,
            "overflow_x": null,
            "grid_auto_flow": null,
            "grid_area": null,
            "grid_template_columns": null,
            "flex": null,
            "_model_name": "LayoutModel",
            "justify_items": null,
            "grid_row": null,
            "max_height": null,
            "align_content": null,
            "visibility": null,
            "align_self": null,
            "height": null,
            "min_height": null,
            "padding": null,
            "grid_auto_rows": null,
            "grid_gap": null,
            "max_width": null,
            "order": null,
            "_view_module_version": "1.2.0",
            "grid_template_areas": null,
            "object_position": null,
            "object_fit": null,
            "grid_auto_columns": null,
            "margin": null,
            "display": null,
            "left": null
          }
        }
      }
    }
  },
  "cells": [
    {
      "cell_type": "markdown",
      "metadata": {
        "id": "view-in-github",
        "colab_type": "text"
      },
      "source": [
        "<a href=\"https://colab.research.google.com/github/SizovV/Music_Genres/blob/main/part_2RNN.ipynb\" target=\"_parent\"><img src=\"https://colab.research.google.com/assets/colab-badge.svg\" alt=\"Open In Colab\"/></a>"
      ]
    },
    {
      "cell_type": "code",
      "metadata": {
        "colab": {
          "base_uri": "https://localhost:8080/"
        },
        "id": "4IYQBf0Wt_Y8",
        "outputId": "940a89eb-18f2-43cd-8653-b027db757c91"
      },
      "source": [
        "!pip install ray"
      ],
      "execution_count": 2,
      "outputs": [
        {
          "output_type": "stream",
          "text": [
            "Collecting ray\n",
            "\u001b[?25l  Downloading https://files.pythonhosted.org/packages/12/87/44476ad712acc1f7957cbf88d307d4a0283a740487cf85d710d0211d0135/ray-1.0.1.post1-cp36-cp36m-manylinux1_x86_64.whl (23.1MB)\n",
            "\u001b[K     |████████████████████████████████| 23.1MB 1.5MB/s \n",
            "\u001b[?25hCollecting redis<3.5.0,>=3.3.2\n",
            "\u001b[?25l  Downloading https://files.pythonhosted.org/packages/f0/05/1fc7feedc19c123e7a95cfc9e7892eb6cdd2e5df4e9e8af6384349c1cc3d/redis-3.4.1-py2.py3-none-any.whl (71kB)\n",
            "\u001b[K     |████████████████████████████████| 71kB 10.6MB/s \n",
            "\u001b[?25hRequirement already satisfied: msgpack<2.0.0,>=1.0.0 in /usr/local/lib/python3.6/dist-packages (from ray) (1.0.0)\n",
            "Requirement already satisfied: requests in /usr/local/lib/python3.6/dist-packages (from ray) (2.23.0)\n",
            "Collecting colorful\n",
            "\u001b[?25l  Downloading https://files.pythonhosted.org/packages/b0/8e/e386e248266952d24d73ed734c2f5513f34d9557032618c8910e605dfaf6/colorful-0.5.4-py2.py3-none-any.whl (201kB)\n",
            "\u001b[K     |████████████████████████████████| 204kB 54.5MB/s \n",
            "\u001b[?25hRequirement already satisfied: click>=7.0 in /usr/local/lib/python3.6/dist-packages (from ray) (7.1.2)\n",
            "Requirement already satisfied: protobuf>=3.8.0 in /usr/local/lib/python3.6/dist-packages (from ray) (3.12.4)\n",
            "Requirement already satisfied: jsonschema in /usr/local/lib/python3.6/dist-packages (from ray) (2.6.0)\n",
            "Collecting opencensus\n",
            "\u001b[?25l  Downloading https://files.pythonhosted.org/packages/50/68/4f407bc0980158001c802222fab17e946728aef13f42e5d80d39dfc9ca67/opencensus-0.7.11-py2.py3-none-any.whl (127kB)\n",
            "\u001b[K     |████████████████████████████████| 133kB 63.1MB/s \n",
            "\u001b[?25hRequirement already satisfied: prometheus-client>=0.7.1 in /usr/local/lib/python3.6/dist-packages (from ray) (0.9.0)\n",
            "Collecting aioredis\n",
            "\u001b[?25l  Downloading https://files.pythonhosted.org/packages/b0/64/1b1612d0a104f21f80eb4c6e1b6075f2e6aba8e228f46f229cfd3fdac859/aioredis-1.3.1-py3-none-any.whl (65kB)\n",
            "\u001b[K     |████████████████████████████████| 71kB 11.2MB/s \n",
            "\u001b[?25hCollecting gpustat\n",
            "\u001b[?25l  Downloading https://files.pythonhosted.org/packages/b4/69/d8c849715171aeabd61af7da080fdc60948b5a396d2422f1f4672e43d008/gpustat-0.6.0.tar.gz (78kB)\n",
            "\u001b[K     |████████████████████████████████| 81kB 11.9MB/s \n",
            "\u001b[?25hRequirement already satisfied: grpcio>=1.28.1 in /usr/local/lib/python3.6/dist-packages (from ray) (1.33.2)\n",
            "Requirement already satisfied: numpy>=1.16 in /usr/local/lib/python3.6/dist-packages (from ray) (1.18.5)\n",
            "Collecting py-spy>=0.2.0\n",
            "\u001b[?25l  Downloading https://files.pythonhosted.org/packages/8e/a7/ab45c9ee3c4654edda3efbd6b8e2fa4962226718a7e3e3be6e3926bf3617/py_spy-0.3.3-py2.py3-none-manylinux1_x86_64.whl (2.9MB)\n",
            "\u001b[K     |████████████████████████████████| 2.9MB 43.2MB/s \n",
            "\u001b[?25hRequirement already satisfied: pyyaml in /usr/local/lib/python3.6/dist-packages (from ray) (3.13)\n",
            "Collecting aiohttp\n",
            "\u001b[?25l  Downloading https://files.pythonhosted.org/packages/ad/e6/d4b6235d776c9b33f853e603efede5aac5a34f71ca9d3877adb30492eb4e/aiohttp-3.7.3-cp36-cp36m-manylinux2014_x86_64.whl (1.3MB)\n",
            "\u001b[K     |████████████████████████████████| 1.3MB 41.0MB/s \n",
            "\u001b[?25hRequirement already satisfied: filelock in /usr/local/lib/python3.6/dist-packages (from ray) (3.0.12)\n",
            "Collecting colorama\n",
            "  Downloading https://files.pythonhosted.org/packages/44/98/5b86278fbbf250d239ae0ecb724f8572af1c91f4a11edf4d36a206189440/colorama-0.4.4-py2.py3-none-any.whl\n",
            "Requirement already satisfied: google in /usr/local/lib/python3.6/dist-packages (from ray) (2.0.3)\n",
            "Collecting aiohttp-cors\n",
            "  Downloading https://files.pythonhosted.org/packages/13/e7/e436a0c0eb5127d8b491a9b83ecd2391c6ff7dcd5548dfaec2080a2340fd/aiohttp_cors-0.7.0-py3-none-any.whl\n",
            "Requirement already satisfied: urllib3!=1.25.0,!=1.25.1,<1.26,>=1.21.1 in /usr/local/lib/python3.6/dist-packages (from requests->ray) (1.24.3)\n",
            "Requirement already satisfied: chardet<4,>=3.0.2 in /usr/local/lib/python3.6/dist-packages (from requests->ray) (3.0.4)\n",
            "Requirement already satisfied: idna<3,>=2.5 in /usr/local/lib/python3.6/dist-packages (from requests->ray) (2.10)\n",
            "Requirement already satisfied: certifi>=2017.4.17 in /usr/local/lib/python3.6/dist-packages (from requests->ray) (2020.11.8)\n",
            "Requirement already satisfied: six>=1.9 in /usr/local/lib/python3.6/dist-packages (from protobuf>=3.8.0->ray) (1.15.0)\n",
            "Requirement already satisfied: setuptools in /usr/local/lib/python3.6/dist-packages (from protobuf>=3.8.0->ray) (50.3.2)\n",
            "Requirement already satisfied: google-api-core<2.0.0,>=1.0.0 in /usr/local/lib/python3.6/dist-packages (from opencensus->ray) (1.16.0)\n",
            "Collecting opencensus-context==0.1.2\n",
            "  Downloading https://files.pythonhosted.org/packages/f1/33/990f1bd9e7ee770fc8d3c154fc24743a96f16a0e49e14e1b7540cc2fdd93/opencensus_context-0.1.2-py2.py3-none-any.whl\n",
            "Collecting hiredis\n",
            "\u001b[?25l  Downloading https://files.pythonhosted.org/packages/ed/7d/6acf1c8d4f2fb327ff6feec000b4c56a20628fbe966a4c7cd16c0b80343c/hiredis-1.1.0-cp36-cp36m-manylinux2010_x86_64.whl (61kB)\n",
            "\u001b[K     |████████████████████████████████| 61kB 10.5MB/s \n",
            "\u001b[?25hCollecting async-timeout\n",
            "  Downloading https://files.pythonhosted.org/packages/e1/1e/5a4441be21b0726c4464f3f23c8b19628372f606755a9d2e46c187e65ec4/async_timeout-3.0.1-py3-none-any.whl\n",
            "Requirement already satisfied: nvidia-ml-py3>=7.352.0 in /usr/local/lib/python3.6/dist-packages (from gpustat->ray) (7.352.0)\n",
            "Requirement already satisfied: psutil in /usr/local/lib/python3.6/dist-packages (from gpustat->ray) (5.4.8)\n",
            "Collecting blessings>=1.6\n",
            "  Downloading https://files.pythonhosted.org/packages/03/74/489f85a78247609c6b4f13733cbf3ba0d864b11aa565617b645d6fdf2a4a/blessings-1.7-py3-none-any.whl\n",
            "Requirement already satisfied: typing-extensions>=3.6.5 in /usr/local/lib/python3.6/dist-packages (from aiohttp->ray) (3.7.4.3)\n",
            "Collecting multidict<7.0,>=4.5\n",
            "\u001b[?25l  Downloading https://files.pythonhosted.org/packages/a1/35/b22524d6b9cacfb4c5eff413a069bbc17c6ea628e54da5c6c989998ced5f/multidict-5.1.0-cp36-cp36m-manylinux2014_x86_64.whl (141kB)\n",
            "\u001b[K     |████████████████████████████████| 143kB 59.3MB/s \n",
            "\u001b[?25hCollecting idna-ssl>=1.0; python_version < \"3.7\"\n",
            "  Downloading https://files.pythonhosted.org/packages/46/03/07c4894aae38b0de52b52586b24bf189bb83e4ddabfe2e2c8f2419eec6f4/idna-ssl-1.1.0.tar.gz\n",
            "Requirement already satisfied: attrs>=17.3.0 in /usr/local/lib/python3.6/dist-packages (from aiohttp->ray) (20.3.0)\n",
            "Collecting yarl<2.0,>=1.0\n",
            "\u001b[?25l  Downloading https://files.pythonhosted.org/packages/da/08/52b26b44bce7b818b410aee37c5e424c9ea420c557bca97dc2adac29b151/yarl-1.6.3-cp36-cp36m-manylinux2014_x86_64.whl (293kB)\n",
            "\u001b[K     |████████████████████████████████| 296kB 61.9MB/s \n",
            "\u001b[?25hRequirement already satisfied: beautifulsoup4 in /usr/local/lib/python3.6/dist-packages (from google->ray) (4.6.3)\n",
            "Requirement already satisfied: google-auth<2.0dev,>=0.4.0 in /usr/local/lib/python3.6/dist-packages (from google-api-core<2.0.0,>=1.0.0->opencensus->ray) (1.17.2)\n",
            "Requirement already satisfied: pytz in /usr/local/lib/python3.6/dist-packages (from google-api-core<2.0.0,>=1.0.0->opencensus->ray) (2018.9)\n",
            "Requirement already satisfied: googleapis-common-protos<2.0dev,>=1.6.0 in /usr/local/lib/python3.6/dist-packages (from google-api-core<2.0.0,>=1.0.0->opencensus->ray) (1.52.0)\n",
            "Collecting contextvars; python_version >= \"3.6\" and python_version < \"3.7\"\n",
            "  Downloading https://files.pythonhosted.org/packages/83/96/55b82d9f13763be9d672622e1b8106c85acb83edd7cc2fa5bc67cd9877e9/contextvars-2.4.tar.gz\n",
            "Requirement already satisfied: rsa<5,>=3.1.4; python_version >= \"3\" in /usr/local/lib/python3.6/dist-packages (from google-auth<2.0dev,>=0.4.0->google-api-core<2.0.0,>=1.0.0->opencensus->ray) (4.6)\n",
            "Requirement already satisfied: pyasn1-modules>=0.2.1 in /usr/local/lib/python3.6/dist-packages (from google-auth<2.0dev,>=0.4.0->google-api-core<2.0.0,>=1.0.0->opencensus->ray) (0.2.8)\n",
            "Requirement already satisfied: cachetools<5.0,>=2.0.0 in /usr/local/lib/python3.6/dist-packages (from google-auth<2.0dev,>=0.4.0->google-api-core<2.0.0,>=1.0.0->opencensus->ray) (4.1.1)\n",
            "Collecting immutables>=0.9\n",
            "\u001b[?25l  Downloading https://files.pythonhosted.org/packages/99/e0/ea6fd4697120327d26773b5a84853f897a68e33d3f9376b00a8ff96e4f63/immutables-0.14-cp36-cp36m-manylinux1_x86_64.whl (98kB)\n",
            "\u001b[K     |████████████████████████████████| 102kB 13.9MB/s \n",
            "\u001b[?25hRequirement already satisfied: pyasn1>=0.1.3 in /usr/local/lib/python3.6/dist-packages (from rsa<5,>=3.1.4; python_version >= \"3\"->google-auth<2.0dev,>=0.4.0->google-api-core<2.0.0,>=1.0.0->opencensus->ray) (0.4.8)\n",
            "Building wheels for collected packages: gpustat, idna-ssl, contextvars\n",
            "  Building wheel for gpustat (setup.py) ... \u001b[?25l\u001b[?25hdone\n",
            "  Created wheel for gpustat: filename=gpustat-0.6.0-cp36-none-any.whl size=12622 sha256=38912247bcf1d78be621267696d9ee7af8b39d34ffee4a95bf0f732076711de7\n",
            "  Stored in directory: /root/.cache/pip/wheels/48/b4/d5/fb5b7f1d040f2ff20687e3bad6867d63155dbde5a7c10f4293\n",
            "  Building wheel for idna-ssl (setup.py) ... \u001b[?25l\u001b[?25hdone\n",
            "  Created wheel for idna-ssl: filename=idna_ssl-1.1.0-cp36-none-any.whl size=3161 sha256=305842cb1229396e0f55fdbd40aab15bf09d25623d5c09c8cc4e42441e258fff\n",
            "  Stored in directory: /root/.cache/pip/wheels/d3/00/b3/32d613e19e08a739751dd6bf998cfed277728f8b2127ad4eb7\n",
            "  Building wheel for contextvars (setup.py) ... \u001b[?25l\u001b[?25hdone\n",
            "  Created wheel for contextvars: filename=contextvars-2.4-cp36-none-any.whl size=7666 sha256=460301f1c9bbcd9412d7b855b335f3c3dd9682e84937ef0abfa6547de1fc6847\n",
            "  Stored in directory: /root/.cache/pip/wheels/a5/7d/68/1ebae2668bda2228686e3c1cf16f2c2384cea6e9334ad5f6de\n",
            "Successfully built gpustat idna-ssl contextvars\n",
            "Installing collected packages: redis, colorful, immutables, contextvars, opencensus-context, opencensus, hiredis, async-timeout, aioredis, blessings, gpustat, py-spy, multidict, idna-ssl, yarl, aiohttp, colorama, aiohttp-cors, ray\n",
            "Successfully installed aiohttp-3.7.3 aiohttp-cors-0.7.0 aioredis-1.3.1 async-timeout-3.0.1 blessings-1.7 colorama-0.4.4 colorful-0.5.4 contextvars-2.4 gpustat-0.6.0 hiredis-1.1.0 idna-ssl-1.1.0 immutables-0.14 multidict-5.1.0 opencensus-0.7.11 opencensus-context-0.1.2 py-spy-0.3.3 ray-1.0.1.post1 redis-3.4.1 yarl-1.6.3\n"
          ],
          "name": "stdout"
        }
      ]
    },
    {
      "cell_type": "code",
      "metadata": {
        "id": "zREmsFtUt8SF"
      },
      "source": [
        "from ray import tune\n",
        "from ray.tune import CLIReporter\n",
        "from ray.tune.schedulers import ASHAScheduler\n",
        "from functools import partial"
      ],
      "execution_count": 3,
      "outputs": []
    },
    {
      "cell_type": "code",
      "metadata": {
        "id": "3ZYrDSGETSgQ"
      },
      "source": [
        "import torch\n",
        "import pandas as pd\n",
        "import numpy as np \n",
        "import os, sys\n",
        "\n",
        "import matplotlib.pyplot as plt\n",
        "import torch.nn as nn\n",
        "import torch.nn.functional as F\n",
        "import torch.optim as optim\n",
        "\n",
        "from tqdm.notebook import tqdm\n",
        "\n",
        "%matplotlib inline"
      ],
      "execution_count": 4,
      "outputs": []
    },
    {
      "cell_type": "code",
      "metadata": {
        "id": "XKmn2pqkSHED"
      },
      "source": [
        "data_root = 'drive/MyDrive/data'\n",
        "data_embeddings = os.path.join(data_root, 'embeddings')"
      ],
      "execution_count": 5,
      "outputs": []
    },
    {
      "cell_type": "code",
      "metadata": {
        "id": "sTWf-xfxChKu"
      },
      "source": [
        "!cp 'drive/MyDrive/data/embeddings_packed.pkl' ."
      ],
      "execution_count": 6,
      "outputs": []
    },
    {
      "cell_type": "code",
      "metadata": {
        "id": "5YGQarwwDEU1"
      },
      "source": [
        "!cp drive/MyDrive/data/*.npy ."
      ],
      "execution_count": 7,
      "outputs": []
    },
    {
      "cell_type": "code",
      "metadata": {
        "colab": {
          "base_uri": "https://localhost:8080/",
          "height": 66,
          "referenced_widgets": [
            "28211664f010430281f9f9bdbcdabe52",
            "61b4507398bc4e6e983216465e937257",
            "e906c0bad300426e94ecf048212fad32",
            "b826f2076d3f41a1aee80ccd9cbcfbdc",
            "cf6fe9edc86d4404b036ead8f2417c03",
            "47487d1c2b814c1eb30dec2765f57400",
            "7da1b7d23fa54cbb8e9575850cf262b2",
            "484f94ee30ad4efe9752bfd5ee52c0ef"
          ]
        },
        "id": "at_WvH415Z-C",
        "outputId": "a60f3fb0-84b2-4b96-b9b2-06f70fd85376"
      },
      "source": [
        "# # convert embeddings' separated files to one file for train, validation and test\n",
        "# songs = list()\n",
        "# targets = list()\n",
        "# for ind in tqdm(data.index):\n",
        "#   song_name = os.path.join(data_embeddings,\n",
        "#                                  str(ind) + '.npy')\n",
        "#   with open(song_name, 'rb') as f:\n",
        "#       song = np.load(f)\n",
        "#   target = data.loc[ind]['genre_top']\n",
        "#   songs.append(song)\n",
        "#   targets.append(target)\n",
        "\n",
        "# emb = pd.DataFrame({'song': songs, 'genre': targets})\n",
        "# emb = emb.set_index(data.index)\n",
        "# emb.to_pickle(os.path.join(data_root,\n",
        "#                                  'embeddings_packed.pkl'))"
      ],
      "execution_count": null,
      "outputs": [
        {
          "output_type": "display_data",
          "data": {
            "application/vnd.jupyter.widget-view+json": {
              "model_id": "28211664f010430281f9f9bdbcdabe52",
              "version_minor": 0,
              "version_major": 2
            },
            "text/plain": [
              "HBox(children=(FloatProgress(value=0.0, max=7996.0), HTML(value='')))"
            ]
          },
          "metadata": {
            "tags": []
          }
        },
        {
          "output_type": "stream",
          "text": [
            "\n"
          ],
          "name": "stdout"
        }
      ]
    },
    {
      "cell_type": "code",
      "metadata": {
        "id": "HhAx3i1QR6gs"
      },
      "source": [
        "# dataloader\n",
        "class MusicDataset(torch.utils.data.Dataset):\n",
        "    \"\"\"Music dataset.\"\"\"\n",
        " \n",
        "    def __init__(self, data_file, select):\n",
        "\n",
        "        self.data = pd.read_pickle(data_file)\n",
        "        self.classes = {}\n",
        "        for ind, genre in enumerate(self.data['genre'].unique()):\n",
        "            self.classes[genre] = ind\n",
        "\n",
        "        with open(select, 'rb') as f:\n",
        "            self.select = np.load(f)\n",
        " \n",
        "    def __len__(self):\n",
        "        return len(self.select)\n",
        " \n",
        "    def __getitem__(self, idx):\n",
        "        if torch.is_tensor(idx):\n",
        "            idx = idx.tolist()\n",
        "        sample = self.data.loc[self.select[idx]]\n",
        "        return {'song': sample['song'], 'target': self.classes[sample['genre']]}"
      ],
      "execution_count": 8,
      "outputs": []
    },
    {
      "cell_type": "code",
      "metadata": {
        "colab": {
          "base_uri": "https://localhost:8080/"
        },
        "id": "6dc8lT7OTb49",
        "outputId": "d04e03b5-0d07-43c7-d6e7-67e78a9bb4fb"
      },
      "source": [
        "embd_packed = os.path.join(data_root, 'embeddings_packed.pkl')\n",
        "data_test = MusicDataset(embd_packed, os.path.join(data_root, 'test.npy'))\n",
        "torch.manual_seed(42)"
      ],
      "execution_count": 9,
      "outputs": [
        {
          "output_type": "execute_result",
          "data": {
            "text/plain": [
              "<torch._C.Generator at 0x7f593cbb2738>"
            ]
          },
          "metadata": {
            "tags": []
          },
          "execution_count": 9
        }
      ]
    },
    {
      "cell_type": "code",
      "metadata": {
        "id": "wnvZzxgIucoH"
      },
      "source": [
        "def load_data(data_root):\n",
        "  embd_packed = os.path.join(data_root, 'embeddings_packed.pkl')\n",
        "  train = MusicDataset(embd_packed, os.path.join(data_root, 'train.npy'))\n",
        "  val = MusicDataset(embd_packed, os.path.join(data_root, 'val.npy'))\n",
        "  return train, val"
      ],
      "execution_count": 10,
      "outputs": []
    },
    {
      "cell_type": "code",
      "metadata": {
        "id": "mpZPiuD-UTFd"
      },
      "source": [
        "test_dataloader = torch.utils.data.DataLoader(data_test, batch_size=100, shuffle=True)"
      ],
      "execution_count": 11,
      "outputs": []
    },
    {
      "cell_type": "code",
      "metadata": {
        "id": "9wgCy_7lSBc1"
      },
      "source": [
        "# net\n",
        "class LSTMClassifier(nn.Module):\n",
        "    def __init__(self, \n",
        "                 hidden_dim, \n",
        "                 n_layers,\n",
        "                 drop1,\n",
        "                 drop2, \n",
        "                 n_classes=8):\n",
        "        super(LSTMClassifier, self).__init__()\n",
        "        self.rnn1 = nn.LSTM(128,\n",
        "                            hidden_dim, \n",
        "                            batch_first=True,\n",
        "                            num_layers=n_layers,\n",
        "                            dropout=drop1)\n",
        "        self.drop1 = nn.Dropout(drop2)\n",
        "        self.fcn1 = nn.Linear(hidden_dim, n_classes)\n",
        "\n",
        "    def forward(self, x):\n",
        "        out, hidden = self.rnn1(x)\n",
        "        # берём только последний выход\n",
        "        out = self.drop1(out[:, -1, :])\n",
        "        out = self.fcn1(out)\n",
        "        return out"
      ],
      "execution_count": 12,
      "outputs": []
    },
    {
      "cell_type": "code",
      "metadata": {
        "id": "q3GrtdC8SDXE"
      },
      "source": [
        "# fit\n",
        "def train_epoch(\n",
        "    model,\n",
        "    data_loader,\n",
        "    optimizer,\n",
        "    criterion,\n",
        "    return_losses=False,\n",
        "    device='cuda:0',\n",
        "):\n",
        "    model = model.to(device).train()\n",
        "    total_loss = 0\n",
        "    num_batches = 0\n",
        "    all_losses = []\n",
        "    total_predictions = np.array([])\n",
        "    total_labels = np.array([])\n",
        "    for batch in data_loader:\n",
        "        # Move Batch to GPU\n",
        "        songs = batch['song'].to(device)\n",
        "        labels = batch['target'].to(device)\n",
        "        predicted = model(songs)\n",
        "        loss = criterion(predicted, labels)\n",
        "        # Update weights\n",
        "        loss.backward()\n",
        "        optimizer.step()\n",
        "        optimizer.zero_grad()\n",
        "        # Update descirption for tqdm\n",
        "        accuracy = (predicted.argmax(1) == labels).float().mean()\n",
        "        total_loss += loss.item()\n",
        "        total_predictions = np.append(total_predictions, predicted.argmax(1).cpu().detach().numpy())\n",
        "        total_labels = np.append(total_labels, labels.cpu().detach().numpy())\n",
        "        num_batches += 1\n",
        "        all_losses.append(loss.detach().item())\n",
        "    metrics = {'loss': total_loss / num_batches}\n",
        "    metrics.update({\"accuracy\": (total_predictions == total_labels).mean()})\n",
        "    if return_losses:\n",
        "        return metrics, all_losses\n",
        "    else:\n",
        "        return metrics\n",
        "\n",
        "\n",
        "def validate(model, data_loader, criterion, device='cuda:0'):\n",
        "    model = model.eval()\n",
        "    total_loss = 0\n",
        "    num_batches = 0\n",
        "    total_predictions = np.array([])\n",
        "    total_labels = np.array([])\n",
        "    for batch in data_loader:\n",
        "        songs = batch['song'].to(device)\n",
        "        labels = batch['target'].to(device)\n",
        "        predicted = model(songs)\n",
        "        loss = criterion(predicted, labels)\n",
        "        accuracy = (predicted.argmax(1) == labels).float().mean()\n",
        "        total_loss += loss.item()\n",
        "        total_predictions = np.append(total_predictions, predicted.argmax(1).cpu().detach().numpy())\n",
        "        total_labels = np.append(total_labels, labels.cpu().detach().numpy())\n",
        "        num_batches += 1\n",
        "    metrics = {'loss': total_loss / num_batches}\n",
        "    metrics.update({\"accuracy\": (total_predictions == total_labels).mean()})\n",
        "    return metrics\n",
        "\n",
        "def fit(\n",
        "    config,\n",
        "    checkpoint_dir=None,\n",
        "    data_dir=None,\n",
        "    epochs=50,\n",
        "    patience = 4\n",
        "):\n",
        "    model = LSTMClassifier(config['h_layer'], \n",
        "                           config['n_layers'], \n",
        "                           config['drop1'], \n",
        "                           config['drop2'])\n",
        "\n",
        "    criterion = nn.CrossEntropyLoss()\n",
        "    optimizer = torch.optim.Adam(model.parameters(), lr=config['lr'])\n",
        "\n",
        "    if checkpoint_dir:\n",
        "      model_state, optimizer_state = torch.load(\n",
        "            os.path.join(checkpoint_dir, \"checkpoint\"))\n",
        "      net.load_state_dict(model_state)\n",
        "      optimizer.load_state_dict(optimizer_state)\n",
        "\n",
        "    train_data, val_data = load_data(data_dir)\n",
        "\n",
        "    train_dataloader = torch.utils.data.DataLoader(train_data, \n",
        "                                                   batch_size=config['batch_size'], \n",
        "                                                   shuffle=True)\n",
        "    val_dataloader = torch.utils.data.DataLoader(val_data, \n",
        "                                                 batch_size=config['batch_size'], \n",
        "                                                 shuffle=True)\n",
        "    max_acc = 0\n",
        "    decrease_counter = 0\n",
        "    for epoch in range(epochs):\n",
        "        # Train step\n",
        "        train_metrics, one_epoch_train_losses = train_epoch(\n",
        "            model=model,\n",
        "            data_loader=train_dataloader,\n",
        "            optimizer=optimizer,\n",
        "            return_losses=True,\n",
        "            criterion=criterion\n",
        "        )\n",
        "        # Eval step\n",
        "        with torch.no_grad():\n",
        "            validation_metrics = validate(\n",
        "                model=model,\n",
        "                data_loader=val_dataloader,\n",
        "                criterion=criterion\n",
        "            )\n",
        "\n",
        "        if validation_metrics['accuracy'] > max_acc:\n",
        "          max_acc = validation_metrics['accuracy']\n",
        "          decrease_counter = 0\n",
        "          with tune.checkpoint_dir(epoch) as checkpoint_dir:\n",
        "            path = os.path.join(checkpoint_dir, \"checkpoint\")\n",
        "            torch.save((model.state_dict(), optimizer.state_dict()), path)\n",
        "        \n",
        "          tune.report(loss=validation_metrics['loss'], \n",
        "                      accuracy=validation_metrics['accuracy'])\n",
        "        else:\n",
        "          decrease_counter += 1\n",
        "        \n",
        "        if decrease_counter > patience:\n",
        "          break"
      ],
      "execution_count": 13,
      "outputs": []
    },
    {
      "cell_type": "code",
      "metadata": {
        "id": "zb3k_rAf7u78"
      },
      "source": [
        "max_epochs = 50\n",
        "num_samples = 200\n",
        "patience=4\n",
        "config = {\n",
        "        \"h_layer\": tune.sample_from(lambda _: 2 ** np.random.randint(3, 9)),\n",
        "        \"n_layers\": tune.choice([1, 2, 3, 4, 5]),\n",
        "        \"lr\": tune.loguniform(1e-4, 1e-1),\n",
        "        \"batch_size\": tune.choice([16, 32, 64, 128, 256]),\n",
        "        'drop1': tune.uniform(0, 25e-2),\n",
        "        'drop2': tune.uniform(0, 25e-2)\n",
        "    }\n",
        "\n",
        "scheduler = ASHAScheduler(\n",
        "    metric=\"accuracy\",\n",
        "    mode=\"max\",\n",
        "    max_t=max_epochs,\n",
        "    grace_period=1,\n",
        "    reduction_factor=2)\n",
        "\n",
        "reporter = CLIReporter(\n",
        "    metric_columns=[\"loss\", \"accuracy\", \"training_iteration\"])\n",
        "\n",
        "result = tune.run(\n",
        "    partial(fit, data_dir='/content', epochs=max_epochs, patience=patience),\n",
        "    resources_per_trial={\"cpu\": 1, \"gpu\": 1},\n",
        "    config=config,\n",
        "    num_samples=num_samples,\n",
        "    scheduler=scheduler,\n",
        "    progress_reporter=reporter,\n",
        "    local_dir=data_root)"
      ],
      "execution_count": null,
      "outputs": []
    },
    {
      "cell_type": "code",
      "metadata": {
        "id": "WoTCOU9B251w"
      },
      "source": [
        "from ray.tune import Analysis\n",
        "analysis = Analysis(data_root)"
      ],
      "execution_count": 19,
      "outputs": []
    },
    {
      "cell_type": "code",
      "metadata": {
        "id": "m5lOlxrmLXr-"
      },
      "source": [
        "df = analysis.dataframe(metric=\"accuracy\", mode=\"max\")"
      ],
      "execution_count": 22,
      "outputs": []
    },
    {
      "cell_type": "code",
      "metadata": {
        "id": "kYX76ktm6q9R"
      },
      "source": [
        "results_df = df.loc[:, ['loss', 'accuracy', 'experiment_tag']]"
      ],
      "execution_count": 24,
      "outputs": []
    },
    {
      "cell_type": "code",
      "metadata": {
        "id": "VOMd2QYF81G4"
      },
      "source": [
        "best_dir = analysis.get_best_logdir(metric='accuracy', mode='max')"
      ],
      "execution_count": 27,
      "outputs": []
    },
    {
      "cell_type": "code",
      "metadata": {
        "id": "PcrkreXP9Chm"
      },
      "source": [
        "best_config = analysis.get_best_config(metric='accuracy', mode='max')"
      ],
      "execution_count": 29,
      "outputs": []
    },
    {
      "cell_type": "code",
      "metadata": {
        "id": "zlD3Vi7q9T64"
      },
      "source": [
        "lstmc = LSTMClassifier(best_config['h_layer'], \n",
        "                       best_config['n_layers'],\n",
        "                       best_config['drop1'],\n",
        "                       best_config['drop2'])"
      ],
      "execution_count": 37,
      "outputs": []
    },
    {
      "cell_type": "code",
      "metadata": {
        "id": "WeceYOdK-6Y7"
      },
      "source": [
        "embd_packed = os.path.join(data_root, 'embeddings_packed.pkl')\n",
        "data_train = MusicDataset(embd_packed, os.path.join(data_root, 'train.npy'))\n",
        "data_val = MusicDataset(embd_packed, os.path.join(data_root, 'val.npy'))\n",
        "\n",
        "train_dataloader = torch.utils.data.DataLoader(data_train, batch_size=best_config['batch_size'], shuffle=True)\n",
        "val_dataloader = torch.utils.data.DataLoader(data_val, batch_size=best_config['batch_size'], shuffle=True)\n",
        "\n",
        "criterion = nn.CrossEntropyLoss()\n",
        "optimizer = torch.optim.Adam(lstmc.parameters(), lr=best_config['lr'])"
      ],
      "execution_count": 38,
      "outputs": []
    },
    {
      "cell_type": "code",
      "metadata": {
        "id": "DigD8blx-TFQ"
      },
      "source": [
        "def fit_best(\n",
        "    model,\n",
        "    epochs,\n",
        "    train_data_loader,\n",
        "    validation_data_loader,\n",
        "    optimizer,\n",
        "    criterion\n",
        "):\n",
        "    all_train_losses = []\n",
        "    epoch_train_losses = []\n",
        "    epoch_eval_losses = []\n",
        "    epoch_train_acc = []\n",
        "    epoch_eval_acc = []\n",
        "    for epoch in range(epochs):\n",
        "        # Train step\n",
        "        print(f\"Train Epoch: {epoch}\")\n",
        "        train_metrics, one_epoch_train_losses = train_epoch(\n",
        "            model=model,\n",
        "            data_loader=train_data_loader,\n",
        "            optimizer=optimizer,\n",
        "            return_losses=True,\n",
        "            criterion=criterion\n",
        "        )\n",
        "        # Save Train losses\n",
        "        all_train_losses.extend(one_epoch_train_losses)\n",
        "        epoch_train_losses.append(train_metrics['loss'])\n",
        "        epoch_train_acc.append(train_metrics['accuracy'])\n",
        "        # Eval step\n",
        "        print(f\"Validation Epoch: {epoch}\")\n",
        "        with torch.no_grad():\n",
        "            validation_metrics = validate(\n",
        "                model=model,\n",
        "                data_loader=validation_data_loader,\n",
        "                criterion=criterion\n",
        "            )\n",
        "        # Save eval losses\n",
        "        epoch_eval_losses.append(validation_metrics['loss'])\n",
        "        epoch_eval_acc.append(validation_metrics['accuracy'])\n",
        "    return {'train_loss': epoch_train_losses,\n",
        "            'train_acc': epoch_train_acc,\n",
        "            'val_loss': epoch_eval_losses,\n",
        "            'val_acc': epoch_eval_acc}\n"
      ],
      "execution_count": 34,
      "outputs": []
    },
    {
      "cell_type": "code",
      "metadata": {
        "colab": {
          "base_uri": "https://localhost:8080/"
        },
        "id": "Lix0ajgu_lem",
        "outputId": "37a35d10-af99-4cc6-a4e8-42c709a14f0e"
      },
      "source": [
        "h = fit_best(lstmc, 25, train_dataloader, val_dataloader, optimizer, criterion)"
      ],
      "execution_count": 35,
      "outputs": [
        {
          "output_type": "stream",
          "text": [
            "Train Epoch: 0\n",
            "Validation Epoch: 0\n",
            "Train Epoch: 1\n",
            "Validation Epoch: 1\n",
            "Train Epoch: 2\n",
            "Validation Epoch: 2\n",
            "Train Epoch: 3\n",
            "Validation Epoch: 3\n",
            "Train Epoch: 4\n",
            "Validation Epoch: 4\n",
            "Train Epoch: 5\n",
            "Validation Epoch: 5\n",
            "Train Epoch: 6\n",
            "Validation Epoch: 6\n",
            "Train Epoch: 7\n",
            "Validation Epoch: 7\n",
            "Train Epoch: 8\n",
            "Validation Epoch: 8\n",
            "Train Epoch: 9\n",
            "Validation Epoch: 9\n",
            "Train Epoch: 10\n",
            "Validation Epoch: 10\n",
            "Train Epoch: 11\n",
            "Validation Epoch: 11\n",
            "Train Epoch: 12\n",
            "Validation Epoch: 12\n",
            "Train Epoch: 13\n",
            "Validation Epoch: 13\n",
            "Train Epoch: 14\n",
            "Validation Epoch: 14\n",
            "Train Epoch: 15\n",
            "Validation Epoch: 15\n",
            "Train Epoch: 16\n",
            "Validation Epoch: 16\n",
            "Train Epoch: 17\n",
            "Validation Epoch: 17\n",
            "Train Epoch: 18\n",
            "Validation Epoch: 18\n",
            "Train Epoch: 19\n",
            "Validation Epoch: 19\n",
            "Train Epoch: 20\n",
            "Validation Epoch: 20\n",
            "Train Epoch: 21\n",
            "Validation Epoch: 21\n",
            "Train Epoch: 22\n",
            "Validation Epoch: 22\n",
            "Train Epoch: 23\n",
            "Validation Epoch: 23\n",
            "Train Epoch: 24\n",
            "Validation Epoch: 24\n"
          ],
          "name": "stdout"
        }
      ]
    },
    {
      "cell_type": "code",
      "metadata": {
        "colab": {
          "base_uri": "https://localhost:8080/",
          "height": 444
        },
        "id": "Egk1ycxVTvS6",
        "outputId": "8e6d706f-61f1-4b55-e130-70352b3cdffb"
      },
      "source": [
        "plt.figure(figsize=(12, 7))\n",
        "plt.subplot(121)\n",
        "plt.title('acc')\n",
        "plt.plot(h['val_acc'], 'r--', label='val acc')\n",
        "plt.plot(h['train_acc'], 'b--', label='train acc')\n",
        "plt.legend()\n",
        "\n",
        "plt.subplot(122)\n",
        "plt.title('loss')\n",
        "plt.plot(range(len(h['val_loss'])), h['val_loss'], 'r--', label='val loss')\n",
        "plt.plot(range(len(h['train_loss'])), h['train_loss'], 'b--', label='train loss')\n",
        "plt.legend()\n",
        "plt.show()"
      ],
      "execution_count": 36,
      "outputs": [
        {
          "output_type": "display_data",
          "data": {
            "image/png": "[encoded data removed]",
            "text/plain": [
              "<Figure size 864x504 with 2 Axes>"
            ]
          },
          "metadata": {
            "tags": [],
            "needs_background": "light"
          }
        }
      ]
    },
    {
      "cell_type": "code",
      "metadata": {
        "colab": {
          "base_uri": "https://localhost:8080/"
        },
        "id": "utgJOc_0ANxI",
        "outputId": "bdc66dd1-5495-48e4-f539-57facbe057b4"
      },
      "source": [
        "h = fit_best(lstmc, 6, train_dataloader, val_dataloader, optimizer, criterion)"
      ],
      "execution_count": 39,
      "outputs": [
        {
          "output_type": "stream",
          "text": [
            "Train Epoch: 0\n",
            "Validation Epoch: 0\n",
            "Train Epoch: 1\n",
            "Validation Epoch: 1\n",
            "Train Epoch: 2\n",
            "Validation Epoch: 2\n",
            "Train Epoch: 3\n",
            "Validation Epoch: 3\n",
            "Train Epoch: 4\n",
            "Validation Epoch: 4\n",
            "Train Epoch: 5\n",
            "Validation Epoch: 5\n"
          ],
          "name": "stdout"
        }
      ]
    },
    {
      "cell_type": "code",
      "metadata": {
        "id": "sE8XfmBIVEVz"
      },
      "source": [
        "with torch.no_grad():\n",
        "            validation_metrics = validate(\n",
        "                model=lstmc,\n",
        "                data_loader=test_dataloader,\n",
        "                criterion=criterion\n",
        "            )"
      ],
      "execution_count": 40,
      "outputs": []
    },
    {
      "cell_type": "code",
      "metadata": {
        "colab": {
          "base_uri": "https://localhost:8080/"
        },
        "id": "nBQOG8u6VHZk",
        "outputId": "158546f4-a315-4ccc-b031-815a8dd4fef9"
      },
      "source": [
        "validation_metrics"
      ],
      "execution_count": 41,
      "outputs": [
        {
          "output_type": "execute_result",
          "data": {
            "text/plain": [
              "{'accuracy': 0.55125, 'loss': 1.303089365363121}"
            ]
          },
          "metadata": {
            "tags": []
          },
          "execution_count": 41
        }
      ]
    }
  ]
}